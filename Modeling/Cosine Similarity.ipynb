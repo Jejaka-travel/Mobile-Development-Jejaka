{
 "cells": [
  {
   "cell_type": "markdown",
   "id": "f335a8bd",
   "metadata": {},
   "source": [
    "## Cosine Similarity"
   ]
  },
  {
   "cell_type": "code",
   "execution_count": 1,
   "id": "c0d61319",
   "metadata": {},
   "outputs": [],
   "source": [
    "import numpy as np\n",
    "import pandas as pd\n",
    "from sklearn.metrics.pairwise import cosine_similarity\n",
    "\n",
    "def load_data():\n",
    "    places_df = pd.read_csv(\"D:/Indonesia Tourism Destination/tourism_with_id.csv\")\n",
    "    ratings_df = pd.read_csv(\"D:/Indonesia Tourism Destination/tourism_rating.csv\")\n",
    "    df_all = pd.merge(places_df, ratings_df, on=\"Place_Id\")\n",
    "    return df_all\n",
    "\n",
    "def filter_data(df, city=None, category=None, price=None):\n",
    "    df_filtered = df\n",
    "    \n",
    "    if city is not None:\n",
    "        df_filtered = df[df[\"City\"] == city]\n",
    "    \n",
    "    if category is not None:\n",
    "        df_filtered = df_filtered[df_filtered[\"Category\"] == category]\n",
    "        \n",
    "    if price is not None:\n",
    "        df_filtered = df_filtered[df_filtered[\"Price\"] >= price]\n",
    "    \n",
    "    return df_filtered\n",
    "\n",
    "def calculate_similarity(df):\n",
    "    df_pivot = df.pivot_table(index='Place_Name', columns='User_Id', values='Place_Ratings')\n",
    "    df_pivot.fillna(0, inplace=True)\n",
    "    similarity_scores = cosine_similarity(df_pivot)\n",
    "    return df_pivot, similarity_scores\n",
    "\n",
    "def get_random_input_place(df_pivot):\n",
    "    return np.random.choice(df_pivot.index)\n",
    "\n",
    "def find_similar_places(df_pivot, similarity_scores, input_place):\n",
    "    index = np.where(df_pivot.index == input_place)[0][0]\n",
    "    similar_places = sorted(list(enumerate(similarity_scores[index])), key=lambda x: x[1], reverse=True)[1:6]\n",
    "    return similar_places\n",
    "\n",
    "def print_place_details(df_all, place_name):\n",
    "    place_data = df_all[df_all[\"Place_Name\"] == place_name].iloc[0]\n",
    "    print(\"Place Name:\", place_data[\"Place_Name\"])\n",
    "    print(\"Description:\", place_data[\"Description\"])\n",
    "    print(\"Price:\", place_data[\"Price\"])\n",
    "    print(\"City:\", place_data[\"City\"])\n",
    "    print(\"Category:\", place_data[\"Category\"])\n",
    "    print()\n",
    "\n",
    "def recommend(city=None, category=None, price=None, input_place=None):\n",
    "    df_all = load_data()\n",
    "    df_filtered = filter_data(df_all, city, category, price)\n",
    "    df_pivot, similarity_scores = calculate_similarity(df_filtered)\n",
    "    \n",
    "    if input_place is None:\n",
    "        input_place = get_random_input_place(df_pivot)\n",
    "    \n",
    "    similar_places = find_similar_places(df_pivot, similarity_scores, input_place)\n",
    "    \n",
    "    for i in similar_places:\n",
    "        place_name = df_pivot.index[i[0]]\n",
    "        print_place_details(df_all, place_name)"
   ]
  },
  {
   "cell_type": "code",
   "execution_count": 2,
   "id": "075407ee",
   "metadata": {},
   "outputs": [
    {
     "name": "stdout",
     "output_type": "stream",
     "text": [
      "Place Name: Lereng Anteng Panoramic Coffee Place\n",
      "Description: Lereng Anteng Panoramic Coffee adalah sebuah tempat tongkrongan asyik berupa cafe and resto dengan perpaduan antara kafe dan spot wisata alam. Tempat makan satu ini dibuka sejak tanggal 1 Juni 2016 lalu dengan menempati luas areal sekitar 500 m² dan hadir mengusung konsep cozy. Nama kafe ini diambil dari kata Lereng yang artinya tempat di pinggiran dataran tinggi dan Anteng (bahasa Sunda) memiliki arti tempat dengan suasana nyaman. Selain menyajikan aneka menu makanan dan minuman, Lereng Anteng Panoramic Coffe juga menyuguhkan view yang begitu luar biasa indahnya\n",
      "Price: 50000\n",
      "City: Bandung\n",
      "Category: Cagar Alam\n",
      "\n",
      "Place Name: Taman Pelangi Yogyakarta\n",
      "Description: Taman Pelangi Yogyakarta merupakan tempat wisata malam yang menampilkan warna-warni lampu lampion, sehingga terlihat seperti pelangi. Taman wisata ini terletak di Jalan Padjajaran (sebelumnya bernama Jalan Ring Road Utara), dan berada di lokasi Museum Monumen Yogya Kembali (Monumen Jogja Kembali) Yogyakarta. Taman Pelangi memiliki lebih dari 20 jenis permainan, 25 stand makan dan stand minum. Taman pelangi ini bisa dinikmati dari sore sampai malam, atau dari jam 17.00 sampai jam 23.00. Malam hari anda akan terasa lengkap dan sempurna di Taman Pelangi dengan banyaknya lampion yang menyala memberikan kesan yang menarik untuk menenangkan pikiran.\n",
      "Price: 15000\n",
      "City: Yogyakarta\n",
      "Category: Taman Hiburan\n",
      "\n",
      "Place Name: Bunker Kaliadem Merapi\n",
      "Description: Bunker Kaliadem merupakan objek wisata yang terletak di lereng selatan Gunung Merapi. Destinasi wisata ini banyak menyimpan jejak erupsi gunung tersebut, terutama tahun 2006 dan 2010. Lokasi fenomenal tersebut berada di ketinggian lebih dari 2.000 meter di atas permukaan laut. Berada di Kabupaten Sleman, wisatawan diajak menyaksikan kegagahan Merapi dari jarak lima kilometer. Kawasan ini memadukan sejarah, keindahaan serta keunikan alam gunung merapi dengan fenomena vulkaniknya.\n",
      "Price: 3000\n",
      "City: Yogyakarta\n",
      "Category: Cagar Alam\n",
      "\n",
      "Place Name: Kawasan Kuliner BSM\n",
      "Description: Tidak seperti Pecenongan, Kawasan Kuliner BSM buka dari pukul 09:00 hingga 18:00. Berlokasi di Jalan M. H. Thamrin, Jakarta Pusat, Kawasan Kuliner BSM merupakan tempat makan murah favorit warga sekitar serta pelancong. Kawasan kuliner Jakarta ini menghadirkan kios dan warung yang berderet di satu area khusus. Pengunjung bisa menyusuri jalur sempit di antara tiap kios untuk memilih hidangan. Kawasan Kuliner BSM menghadirkan hidangan berat dan makanan ringan. Pengunjung bisa menemukan bakso, nasi goreng, aneka soto, nasi Padang, nasi uduk, pecel, sete, gudeg, gado-gado, dan sebagainya. Ada juga berbagai hidangan ringan dan kue-kue, seperti misalnya donat kentang, jamur goreng, sup buah, kentang goreng, dan beragam gorengan. Pengunjung bisa naik bus Trans Jakarta koridor 1 (Blok M-Kota) hingga ke Halte Bank Indonesia, lalu menyeberang jalan ke dekat gedung Bank Mandiri. Dari sana, Kawasan Kuliner BSM cukup mudah ditemukan.\n",
      "Price: 0\n",
      "City: Jakarta\n",
      "Category: Pusat Perbelanjaan\n",
      "\n",
      "Place Name: Candi Ijo\n",
      "Description: Candi Ijo (bahasa Jawa: ꦕꦤ꧀ꦝꦶ​ꦆꦗꦺꦴ, translit. Candhi Ijo) adalah sebuah kompleks percandian bercorak Hindu, berada 4 kilometer arah tenggara dari Candi Ratu Boko atau kira-kira 18 kilometer di sebelah timur kota Yogyakarta. Candi ini diperkirakan dibangun antara kurun abad ke-10 sampai dengan ke-11 Masehi pada saat zaman Kerajaan Medang periode Mataram.\r\n",
      "Price: 5000\n",
      "City: Yogyakarta\n",
      "Category: Budaya\n",
      "\n"
     ]
    }
   ],
   "source": [
    "# Example usage\n",
    "recommend(input_place = \"Waterboom PIK (Pantai Indah Kapuk)\")"
   ]
  }
 ],
 "metadata": {
  "kernelspec": {
   "display_name": "Python 3 (ipykernel)",
   "language": "python",
   "name": "python3"
  },
  "language_info": {
   "codemirror_mode": {
    "name": "ipython",
    "version": 3
   },
   "file_extension": ".py",
   "mimetype": "text/x-python",
   "name": "python",
   "nbconvert_exporter": "python",
   "pygments_lexer": "ipython3",
   "version": "3.9.13"
  }
 },
 "nbformat": 4,
 "nbformat_minor": 5
}
